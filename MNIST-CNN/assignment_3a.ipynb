{
 "cells": [
  {
   "cell_type": "code",
   "execution_count": 0,
   "metadata": {
    "colab": {},
    "colab_type": "code",
    "id": "dCVSi-vteipK"
   },
   "outputs": [],
   "source": [
    "# 1. Achieve 99.2 Validation Accuracy while using less than 18000 Parameters.\n",
    "import keras"
   ]
  },
  {
   "cell_type": "code",
   "execution_count": 0,
   "metadata": {
    "colab": {},
    "colab_type": "code",
    "id": "zgqZ6gRDesju"
   },
   "outputs": [],
   "source": [
    "\n",
    "import numpy as np\n",
    "\n",
    "from keras.models import Sequential\n",
    "from keras.layers import  Add\n",
    "from keras.layers import Convolution2D, MaxPooling2D\n",
    "from keras.utils import np_utils\n",
    "import tensorflow as tf\n",
    "from keras.datasets import mnist"
   ]
  },
  {
   "cell_type": "code",
   "execution_count": 0,
   "metadata": {
    "colab": {},
    "colab_type": "code",
    "id": "TsPjde4H5NRp"
   },
   "outputs": [],
   "source": [
    "\n",
    "%matplotlib inline\n",
    "import numpy as np\n",
    "import matplotlib\n",
    "from matplotlib import pyplot as plt\n",
    "\n",
    "from keras.optimizers import Adam, SGD\n",
    "\n",
    "from keras.layers import Conv2D, MaxPooling2D,Flatten, Activation\n",
    "from keras.preprocessing.image import ImageDataGenerator"
   ]
  },
  {
   "cell_type": "code",
   "execution_count": 0,
   "metadata": {
    "colab": {},
    "colab_type": "code",
    "id": "rAFGBxeqfBQH"
   },
   "outputs": [],
   "source": [
    "(x_train, y_train), (x_test, y_test) = mnist.load_data()"
   ]
  },
  {
   "cell_type": "code",
   "execution_count": 47,
   "metadata": {
    "colab": {
     "base_uri": "https://localhost:8080/",
     "height": 299
    },
    "colab_type": "code",
    "executionInfo": {
     "elapsed": 2199,
     "status": "ok",
     "timestamp": 1552331347025,
     "user": {
      "displayName": "gorad gorad",
      "photoUrl": "",
      "userId": "15120136732458699451"
     },
     "user_tz": -330
    },
    "id": "XEYydY9gfGMb",
    "outputId": "cd067b35-4dc6-4f31-ffa8-2b2225c96c09"
   },
   "outputs": [
    {
     "name": "stdout",
     "output_type": "stream",
     "text": [
      "(60000, 28, 28)\n"
     ]
    },
    {
     "data": {
      "text/plain": [
       "<matplotlib.image.AxesImage at 0x7f5685298b00>"
      ]
     },
     "execution_count": 47,
     "metadata": {
      "tags": []
     },
     "output_type": "execute_result"
    },
    {
     "data": {
      "image/png": "[encoded data removed]",
      "text/plain": [
       "<Figure size 432x288 with 1 Axes>"
      ]
     },
     "metadata": {
      "tags": []
     },
     "output_type": "display_data"
    }
   ],
   "source": [
    "print (x_train.shape)\n",
    "from matplotlib import pyplot as plt\n",
    "%matplotlib inline\n",
    "plt.imshow(x_train[0])"
   ]
  },
  {
   "cell_type": "code",
   "execution_count": 0,
   "metadata": {
    "colab": {},
    "colab_type": "code",
    "id": "3foZpkfowyo0"
   },
   "outputs": [],
   "source": []
  },
  {
   "cell_type": "code",
   "execution_count": 0,
   "metadata": {
    "colab": {},
    "colab_type": "code",
    "id": "OxVGEEb-w5KY"
   },
   "outputs": [],
   "source": []
  },
  {
   "cell_type": "code",
   "execution_count": 0,
   "metadata": {
    "colab": {},
    "colab_type": "code",
    "id": "YzigS7QqhCAu"
   },
   "outputs": [],
   "source": [
    "x_train = x_train.reshape(x_train.shape[0], 28, 28,1)\n",
    "x_test = x_test.reshape(x_test.shape[0], 28, 28,1)"
   ]
  },
  {
   "cell_type": "code",
   "execution_count": 0,
   "metadata": {
    "colab": {},
    "colab_type": "code",
    "id": "fCh_SWAefUZ1"
   },
   "outputs": [],
   "source": [
    "#"
   ]
  },
  {
   "cell_type": "code",
   "execution_count": 0,
   "metadata": {
    "colab": {},
    "colab_type": "code",
    "id": "JwbsFmr_f7de"
   },
   "outputs": [],
   "source": [
    "x_train = x_train.astype('float32')\n",
    "x_test = x_test.astype('float32')\n",
    "\n"
   ]
  },
  {
   "cell_type": "code",
   "execution_count": 0,
   "metadata": {
    "colab": {},
    "colab_type": "code",
    "id": "YkeEd4xZnq_7"
   },
   "outputs": [],
   "source": []
  },
  {
   "cell_type": "code",
   "execution_count": 0,
   "metadata": {
    "colab": {},
    "colab_type": "code",
    "id": "X18HcvdqpYXC"
   },
   "outputs": [],
   "source": [
    "x_train /= 255\n",
    "x_test /= 255"
   ]
  },
  {
   "cell_type": "code",
   "execution_count": 52,
   "metadata": {
    "colab": {
     "base_uri": "https://localhost:8080/",
     "height": 34
    },
    "colab_type": "code",
    "executionInfo": {
     "elapsed": 2324,
     "status": "ok",
     "timestamp": 1552331353852,
     "user": {
      "displayName": "gorad gorad",
      "photoUrl": "",
      "userId": "15120136732458699451"
     },
     "user_tz": -330
    },
    "id": "K0hmBT-Nf7u1",
    "outputId": "cb426874-bcc1-495b-9723-8f7db6ea6db8"
   },
   "outputs": [
    {
     "data": {
      "text/plain": [
       "array([5, 0, 4, 1, 9, 2, 1, 3, 1, 4], dtype=uint8)"
      ]
     },
     "execution_count": 52,
     "metadata": {
      "tags": []
     },
     "output_type": "execute_result"
    }
   ],
   "source": [
    "\n",
    "y_train[:10]"
   ]
  },
  {
   "cell_type": "code",
   "execution_count": 0,
   "metadata": {
    "colab": {},
    "colab_type": "code",
    "id": "7CoIUIVgyt4K"
   },
   "outputs": [],
   "source": [
    "def augment_data(dataset, dataset_labels, augementation_factor=1, use_random_rotation=True, use_random_shear=True, use_random_shift=True, use_random_zoom=True):\n",
    "\taugmented_image = []\n",
    "\taugmented_image_labels = []\n",
    "\n",
    "\tfor num in range (0, dataset.shape[0]):\n",
    "\n",
    "\t\tfor i in range(0, augementation_factor):\n",
    "\t\t\t# original image:\n",
    "\t\t\taugmented_image.append(dataset[num])\n",
    "\t\t\taugmented_image_labels.append(dataset_labels[num])\n",
    "\n",
    "\t\t\tif use_random_rotation:\n",
    "\t\t\t\taugmented_image.append(tf.contrib.keras.preprocessing.image.random_rotation(dataset[num], 20, row_axis=0, col_axis=1, channel_axis=2))\n",
    "\t\t\t\taugmented_image_labels.append(dataset_labels[num])\n",
    "\n",
    "\t\t\tif use_random_shear:\n",
    "\t\t\t\taugmented_image.append(tf.contrib.keras.preprocessing.image.random_shear(dataset[num], 0.2, row_axis=0, col_axis=1, channel_axis=2))\n",
    "\t\t\t\taugmented_image_labels.append(dataset_labels[num])\n",
    "\n",
    "\t\t\tif use_random_shift:\n",
    "\t\t\t\taugmented_image.append(tf.contrib.keras.preprocessing.image.random_shift(dataset[num], 0.2, 0.2, row_axis=0, col_axis=1, channel_axis=2))\n",
    "\t\t\t\taugmented_image_labels.append(dataset_labels[num])\n",
    "\n",
    "\t\t\tif use_random_zoom:\n",
    "\t\t\t\taugmented_image.append(tf.contrib.keras.preprocessing.image.random_zoom(dataset[num], (0.8,1.2), row_axis=0, col_axis=1, channel_axis=2))\n",
    "\t\t\t\taugmented_image_labels.append(dataset_labels[num])\n",
    "\n",
    "\treturn np.array(augmented_image), np.array(augmented_image_labels)\n",
    "\n",
    "x_train , y_train= augment_data(x_train, y_train,  augementation_factor=1, use_random_rotation=True, use_random_shear=True, use_random_shift=True)"
   ]
  },
  {
   "cell_type": "code",
   "execution_count": 0,
   "metadata": {
    "colab": {},
    "colab_type": "code",
    "id": "7N1A4LueJwab"
   },
   "outputs": [],
   "source": [
    "from sklearn.utils import shuffle\n",
    "\n",
    "x_train , y_train= shuffle(x_train , y_train)"
   ]
  },
  {
   "cell_type": "code",
   "execution_count": 0,
   "metadata": {
    "colab": {},
    "colab_type": "code",
    "id": "zY5_BiXMf71y"
   },
   "outputs": [],
   "source": [
    "# Convert 1-dimensional class arrays to 10-dimensional class matrices\n",
    "y_train = np_utils.to_categorical(y_train, 10)\n",
    "y_test = np_utils.to_categorical(y_test, 10)"
   ]
  },
  {
   "cell_type": "code",
   "execution_count": 56,
   "metadata": {
    "colab": {
     "base_uri": "https://localhost:8080/",
     "height": 187
    },
    "colab_type": "code",
    "executionInfo": {
     "elapsed": 1794,
     "status": "ok",
     "timestamp": 1552331563000,
     "user": {
      "displayName": "gorad gorad",
      "photoUrl": "",
      "userId": "15120136732458699451"
     },
     "user_tz": -330
    },
    "id": "xG4Z97pQgRal",
    "outputId": "51652f4d-0a91-437c-eb03-bed46112b1fe"
   },
   "outputs": [
    {
     "data": {
      "text/plain": [
       "array([[0., 0., 0., 0., 0., 0., 1., 0., 0., 0.],\n",
       "       [0., 0., 0., 0., 1., 0., 0., 0., 0., 0.],\n",
       "       [1., 0., 0., 0., 0., 0., 0., 0., 0., 0.],\n",
       "       [0., 0., 0., 0., 0., 0., 0., 0., 0., 1.],\n",
       "       [0., 0., 0., 0., 1., 0., 0., 0., 0., 0.],\n",
       "       [0., 0., 0., 0., 0., 0., 0., 0., 0., 1.],\n",
       "       [0., 0., 0., 0., 0., 0., 0., 0., 0., 1.],\n",
       "       [0., 0., 0., 0., 0., 0., 1., 0., 0., 0.],\n",
       "       [0., 0., 0., 0., 0., 0., 0., 0., 1., 0.],\n",
       "       [0., 0., 0., 1., 0., 0., 0., 0., 0., 0.]], dtype=float32)"
      ]
     },
     "execution_count": 56,
     "metadata": {
      "tags": []
     },
     "output_type": "execute_result"
    }
   ],
   "source": [
    "y_train[:10]\n"
   ]
  },
  {
   "cell_type": "code",
   "execution_count": 0,
   "metadata": {
    "colab": {},
    "colab_type": "code",
    "id": "ZDcNZA0u26Zy"
   },
   "outputs": [],
   "source": []
  },
  {
   "cell_type": "code",
   "execution_count": 0,
   "metadata": {
    "colab": {},
    "colab_type": "code",
    "id": "EmvkMDdBqazI"
   },
   "outputs": [],
   "source": []
  },
  {
   "cell_type": "code",
   "execution_count": 68,
   "metadata": {
    "colab": {
     "base_uri": "https://localhost:8080/",
     "height": 88
    },
    "colab_type": "code",
    "executionInfo": {
     "elapsed": 858,
     "status": "ok",
     "timestamp": 1552331706192,
     "user": {
      "displayName": "gorad gorad",
      "photoUrl": "",
      "userId": "15120136732458699451"
     },
     "user_tz": -330
    },
    "id": "VMT2F4QIhDbT",
    "outputId": "a85490a7-74d2-4bb6-e9f5-67ce7b0703f9"
   },
   "outputs": [
    {
     "name": "stderr",
     "output_type": "stream",
     "text": [
      "/usr/local/lib/python3.6/dist-packages/ipykernel_launcher.py:31: UserWarning: Update your `Conv2D` call to the Keras 2 API: `Conv2D(16, (3, 3), activation=\"relu\", input_shape=(28, 28, 1...)`\n",
      "/usr/local/lib/python3.6/dist-packages/ipykernel_launcher.py:33: UserWarning: Update your `Conv2D` call to the Keras 2 API: `Conv2D(32, (3, 3), activation=\"relu\")`\n",
      "/usr/local/lib/python3.6/dist-packages/ipykernel_launcher.py:36: UserWarning: Update your `Conv2D` call to the Keras 2 API: `Conv2D(32, (3, 3), activation=\"relu\")`\n"
     ]
    }
   ],
   "source": [
    "from keras.layers import Activation\n",
    "from keras.layers import MaxPooling2D\n",
    "\n",
    "from keras.layers import DepthwiseConv2D\n",
    "\n",
    "from keras.layers import SeparableConv2D\n",
    "\n",
    "from keras import regularizers\n",
    "\n",
    "\n",
    "\n",
    "model = Sequential()\n",
    "model.add(Convolution2D(16,3, 3, activation='relu', input_shape=(28,28,1)))\n",
    "model.add(Convolution2D(10, 1, activation='relu'))\n",
    "model.add(Convolution2D(32,3,3,activation='relu'))\n",
    "model.add(Convolution2D(10, 1, activation='relu'))\n",
    "model.add(MaxPooling2D(pool_size=(2, 2), strides=None, padding='valid', data_format=None))\n",
    "model.add(Convolution2D(32,3,3,activation='relu'))\n",
    "model.add(Convolution2D(10, 1, activation='relu'))\n",
    "model.add(Convolution2D(10,10))\n",
    "model.add(Flatten())\n",
    "model.add(Activation('softmax'))\n"
   ]
  },
  {
   "cell_type": "code",
   "execution_count": 70,
   "metadata": {
    "colab": {
     "base_uri": "https://localhost:8080/",
     "height": 476
    },
    "colab_type": "code",
    "executionInfo": {
     "elapsed": 715,
     "status": "ok",
     "timestamp": 1552331707435,
     "user": {
      "displayName": "gorad gorad",
      "photoUrl": "",
      "userId": "15120136732458699451"
     },
     "user_tz": -330
    },
    "id": "7KLXBKEagin9",
    "outputId": "900dd123-c9d0-4b82-a20c-52d9114cb29f"
   },
   "outputs": [
    {
     "name": "stdout",
     "output_type": "stream",
     "text": [
      "_________________________________________________________________\n",
      "Layer (type)                 Output Shape              Param #   \n",
      "=================================================================\n",
      "conv2d_52 (Conv2D)           (None, 26, 26, 16)        160       \n",
      "_________________________________________________________________\n",
      "conv2d_53 (Conv2D)           (None, 26, 26, 10)        170       \n",
      "_________________________________________________________________\n",
      "conv2d_54 (Conv2D)           (None, 24, 24, 32)        2912      \n",
      "_________________________________________________________________\n",
      "conv2d_55 (Conv2D)           (None, 24, 24, 10)        330       \n",
      "_________________________________________________________________\n",
      "max_pooling2d_10 (MaxPooling (None, 12, 12, 10)        0         \n",
      "_________________________________________________________________\n",
      "conv2d_56 (Conv2D)           (None, 10, 10, 32)        2912      \n",
      "_________________________________________________________________\n",
      "conv2d_57 (Conv2D)           (None, 10, 10, 10)        330       \n",
      "_________________________________________________________________\n",
      "conv2d_58 (Conv2D)           (None, 1, 1, 10)          10010     \n",
      "_________________________________________________________________\n",
      "flatten_10 (Flatten)         (None, 10)                0         \n",
      "_________________________________________________________________\n",
      "activation_10 (Activation)   (None, 10)                0         \n",
      "=================================================================\n",
      "Total params: 16,824\n",
      "Trainable params: 16,824\n",
      "Non-trainable params: 0\n",
      "_________________________________________________________________\n"
     ]
    }
   ],
   "source": [
    "\n",
    "model.summary()"
   ]
  },
  {
   "cell_type": "code",
   "execution_count": 0,
   "metadata": {
    "colab": {},
    "colab_type": "code",
    "id": "dMBx7KZiguYC"
   },
   "outputs": [],
   "source": [
    "model.compile(loss='categorical_crossentropy',\n",
    "             optimizer='adam',\n",
    "             metrics=['accuracy'])"
   ]
  },
  {
   "cell_type": "code",
   "execution_count": 72,
   "metadata": {
    "colab": {
     "base_uri": "https://localhost:8080/",
     "height": 1768
    },
    "colab_type": "code",
    "executionInfo": {
     "elapsed": 2764483,
     "status": "ok",
     "timestamp": 1552334474246,
     "user": {
      "displayName": "gorad gorad",
      "photoUrl": "",
      "userId": "15120136732458699451"
     },
     "user_tz": -330
    },
    "id": "wc7a49ISguiq",
    "outputId": "153d5ef9-ffea-468b-879a-818f7249625c"
   },
   "outputs": [
    {
     "name": "stderr",
     "output_type": "stream",
     "text": [
      "/usr/local/lib/python3.6/dist-packages/ipykernel_launcher.py:1: UserWarning: The `nb_epoch` argument in `fit` has been renamed `epochs`.\n",
      "  \"\"\"Entry point for launching an IPython kernel.\n"
     ]
    },
    {
     "name": "stdout",
     "output_type": "stream",
     "text": [
      "Epoch 1/50\n",
      "300000/300000 [==============================] - 57s 189us/step - loss: 0.3501 - acc: 0.8973\n",
      "Epoch 2/50\n",
      "300000/300000 [==============================] - 55s 182us/step - loss: 0.1247 - acc: 0.9621\n",
      "Epoch 3/50\n",
      "300000/300000 [==============================] - 55s 184us/step - loss: 0.0910 - acc: 0.9727\n",
      "Epoch 4/50\n",
      "300000/300000 [==============================] - 55s 184us/step - loss: 0.0768 - acc: 0.9764\n",
      "Epoch 5/50\n",
      "300000/300000 [==============================] - 55s 184us/step - loss: 0.0660 - acc: 0.9799\n",
      "Epoch 6/50\n",
      "300000/300000 [==============================] - 55s 184us/step - loss: 0.0592 - acc: 0.9818\n",
      "Epoch 7/50\n",
      "300000/300000 [==============================] - 55s 184us/step - loss: 0.0535 - acc: 0.9835\n",
      "Epoch 8/50\n",
      "300000/300000 [==============================] - 55s 183us/step - loss: 0.0489 - acc: 0.9846\n",
      "Epoch 9/50\n",
      "300000/300000 [==============================] - 56s 185us/step - loss: 0.0452 - acc: 0.9860\n",
      "Epoch 10/50\n",
      "300000/300000 [==============================] - 55s 184us/step - loss: 0.0416 - acc: 0.9869\n",
      "Epoch 11/50\n",
      "300000/300000 [==============================] - 55s 184us/step - loss: 0.0386 - acc: 0.9879\n",
      "Epoch 12/50\n",
      "300000/300000 [==============================] - 56s 185us/step - loss: 0.0360 - acc: 0.9886\n",
      "Epoch 13/50\n",
      "300000/300000 [==============================] - 55s 184us/step - loss: 0.0341 - acc: 0.9893\n",
      "Epoch 14/50\n",
      "300000/300000 [==============================] - 55s 185us/step - loss: 0.0321 - acc: 0.9899\n",
      "Epoch 15/50\n",
      "300000/300000 [==============================] - 55s 184us/step - loss: 0.0300 - acc: 0.9905\n",
      "Epoch 16/50\n",
      "300000/300000 [==============================] - 55s 185us/step - loss: 0.0282 - acc: 0.9910\n",
      "Epoch 17/50\n",
      "300000/300000 [==============================] - 55s 184us/step - loss: 0.0264 - acc: 0.9916\n",
      "Epoch 18/50\n",
      "300000/300000 [==============================] - 55s 184us/step - loss: 0.0253 - acc: 0.9920\n",
      "Epoch 19/50\n",
      "300000/300000 [==============================] - 56s 186us/step - loss: 0.0242 - acc: 0.9923\n",
      "Epoch 20/50\n",
      "300000/300000 [==============================] - 55s 184us/step - loss: 0.0232 - acc: 0.9923\n",
      "Epoch 21/50\n",
      "300000/300000 [==============================] - 55s 184us/step - loss: 0.0219 - acc: 0.9929\n",
      "Epoch 22/50\n",
      "300000/300000 [==============================] - 55s 183us/step - loss: 0.0208 - acc: 0.9934\n",
      "Epoch 23/50\n",
      "300000/300000 [==============================] - 55s 185us/step - loss: 0.0200 - acc: 0.9936\n",
      "Epoch 24/50\n",
      "300000/300000 [==============================] - 55s 185us/step - loss: 0.0200 - acc: 0.9934\n",
      "Epoch 25/50\n",
      "300000/300000 [==============================] - 55s 184us/step - loss: 0.0188 - acc: 0.9939\n",
      "Epoch 26/50\n",
      "300000/300000 [==============================] - 55s 185us/step - loss: 0.0177 - acc: 0.9942\n",
      "Epoch 27/50\n",
      "300000/300000 [==============================] - 55s 185us/step - loss: 0.0174 - acc: 0.9942\n",
      "Epoch 28/50\n",
      "300000/300000 [==============================] - 55s 183us/step - loss: 0.0168 - acc: 0.9943\n",
      "Epoch 29/50\n",
      "300000/300000 [==============================] - 55s 184us/step - loss: 0.0164 - acc: 0.9946\n",
      "Epoch 30/50\n",
      "300000/300000 [==============================] - 56s 186us/step - loss: 0.0155 - acc: 0.9948\n",
      "Epoch 31/50\n",
      "300000/300000 [==============================] - 55s 184us/step - loss: 0.0154 - acc: 0.9949\n",
      "Epoch 32/50\n",
      "300000/300000 [==============================] - 55s 183us/step - loss: 0.0147 - acc: 0.9950\n",
      "Epoch 33/50\n",
      "300000/300000 [==============================] - 55s 182us/step - loss: 0.0144 - acc: 0.9952\n",
      "Epoch 34/50\n",
      "300000/300000 [==============================] - 55s 185us/step - loss: 0.0138 - acc: 0.9954\n",
      "Epoch 35/50\n",
      "300000/300000 [==============================] - 55s 184us/step - loss: 0.0135 - acc: 0.9955\n",
      "Epoch 36/50\n",
      "300000/300000 [==============================] - 56s 185us/step - loss: 0.0127 - acc: 0.9958\n",
      "Epoch 37/50\n",
      "300000/300000 [==============================] - 55s 183us/step - loss: 0.0125 - acc: 0.9959\n",
      "Epoch 38/50\n",
      "300000/300000 [==============================] - 55s 183us/step - loss: 0.0116 - acc: 0.9961\n",
      "Epoch 39/50\n",
      "300000/300000 [==============================] - 56s 185us/step - loss: 0.0123 - acc: 0.9959\n",
      "Epoch 40/50\n",
      "300000/300000 [==============================] - 55s 184us/step - loss: 0.0111 - acc: 0.9961\n",
      "Epoch 41/50\n",
      "300000/300000 [==============================] - 55s 183us/step - loss: 0.0113 - acc: 0.9962\n",
      "Epoch 42/50\n",
      "300000/300000 [==============================] - 56s 185us/step - loss: 0.0112 - acc: 0.9961\n",
      "Epoch 43/50\n",
      "300000/300000 [==============================] - 55s 184us/step - loss: 0.0110 - acc: 0.9963\n",
      "Epoch 44/50\n",
      "300000/300000 [==============================] - 56s 185us/step - loss: 0.0103 - acc: 0.9965\n",
      "Epoch 45/50\n",
      "300000/300000 [==============================] - 55s 183us/step - loss: 0.0104 - acc: 0.9964\n",
      "Epoch 46/50\n",
      "300000/300000 [==============================] - 55s 184us/step - loss: 0.0106 - acc: 0.9964\n",
      "Epoch 47/50\n",
      "300000/300000 [==============================] - 55s 184us/step - loss: 0.0098 - acc: 0.9967\n",
      "Epoch 48/50\n",
      "300000/300000 [==============================] - 55s 183us/step - loss: 0.0097 - acc: 0.9968\n",
      "Epoch 49/50\n",
      "300000/300000 [==============================] - 55s 184us/step - loss: 0.0096 - acc: 0.9967\n",
      "Epoch 50/50\n",
      "300000/300000 [==============================] - 55s 184us/step - loss: 0.0093 - acc: 0.9968\n"
     ]
    },
    {
     "data": {
      "text/plain": [
       "<keras.callbacks.History at 0x7f5684941390>"
      ]
     },
     "execution_count": 72,
     "metadata": {
      "tags": []
     },
     "output_type": "execute_result"
    }
   ],
   "source": [
    "model.fit(x_train , y_train, batch_size=300, nb_epoch=50, verbose=1)"
   ]
  },
  {
   "cell_type": "code",
   "execution_count": 0,
   "metadata": {
    "colab": {},
    "colab_type": "code",
    "id": "WJdhHOfLg4Go"
   },
   "outputs": [],
   "source": [
    "score = model.evaluate(x_test, y_test, verbose=0)"
   ]
  },
  {
   "cell_type": "code",
   "execution_count": 74,
   "metadata": {
    "colab": {
     "base_uri": "https://localhost:8080/",
     "height": 34
    },
    "colab_type": "code",
    "executionInfo": {
     "elapsed": 2321,
     "status": "ok",
     "timestamp": 1552334491911,
     "user": {
      "displayName": "gorad gorad",
      "photoUrl": "",
      "userId": "15120136732458699451"
     },
     "user_tz": -330
    },
    "id": "hanVNVIIg4Ko",
    "outputId": "787d79dd-2e31-4d28-ee51-93dfd7d1ff95"
   },
   "outputs": [
    {
     "name": "stdout",
     "output_type": "stream",
     "text": [
      "[0.0284918041888232, 0.9935]\n"
     ]
    }
   ],
   "source": [
    "print(score)"
   ]
  },
  {
   "cell_type": "code",
   "execution_count": 0,
   "metadata": {
    "colab": {},
    "colab_type": "code",
    "id": "czGCTBjZhj_p"
   },
   "outputs": [],
   "source": []
  }
 ],
 "metadata": {
  "accelerator": "GPU",
  "colab": {
   "collapsed_sections": [],
   "name": "assignment_3a.ipynb",
   "provenance": [
    {
     "file_id": "18wMt_Gs7UblRiRSYiX4EqofqpSInxrEz",
     "timestamp": 1552326616535
    }
   ],
   "version": "0.3.2"
  },
  "kernelspec": {
   "display_name": "Python 3",
   "language": "python",
   "name": "python3"
  },
  "language_info": {
   "codemirror_mode": {
    "name": "ipython",
    "version": 3
   },
   "file_extension": ".py",
   "mimetype": "text/x-python",
   "name": "python",
   "nbconvert_exporter": "python",
   "pygments_lexer": "ipython3",
   "version": "3.6.5"
  }
 },
 "nbformat": 4,
 "nbformat_minor": 1
}
