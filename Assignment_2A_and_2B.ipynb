{
  "nbformat": 4,
  "nbformat_minor": 0,
  "metadata": {
    "colab": {
      "name": "Assignment -2A and 2B",
      "version": "0.3.2",
      "provenance": [],
      "collapsed_sections": []
    },
    "kernelspec": {
      "name": "python3",
      "display_name": "Python 3"
    }
  },
  "cells": [
    {
      "metadata": {
        "id": "5uZu60hMMv3A",
        "colab_type": "text"
      },
      "cell_type": "markdown",
      "source": [
        "#Assignment -2A\n",
        " "
      ]
    },
    {
      "metadata": {
        "id": "nsnWBckZMR5b",
        "colab_type": "text"
      },
      "cell_type": "markdown",
      "source": [
        "# Back propagation\n",
        "----\n",
        "Backpropagation (Backward propagation of errors) algorithm is used to train artificial neural networks, it can update the weights very efficiently.\n",
        "\n",
        "Usually, it is used in conjunction with an gradient descent optimization method."
      ]
    },
    {
      "metadata": {
        "id": "NnTXpRcQNOMT",
        "colab_type": "text"
      },
      "cell_type": "markdown",
      "source": [
        "## Backpropagation Step by Step\n",
        "\n",
        "\n",
        "---\n",
        "\n",
        "\n",
        "If you are building your own neural network, you will definitely need to understand how to train it. Backpropagation is a commonly used technique for training neural network. There are many resources explaining the technique, but this post will explain backpropagation with concrete example in a very detailed colorful steps.\n",
        "\n",
        "![alt text](https://github.com/kishmys/Assignment-2/blob/master/backpropagation.png?raw=true)"
      ]
    },
    {
      "metadata": {
        "id": "C4fYG-miNwOk",
        "colab_type": "text"
      },
      "cell_type": "markdown",
      "source": [
        "## Overview\n",
        "\n",
        "\n",
        "---\n",
        "\n",
        "\n",
        "In this post, we will build a neural network with three layers:\n",
        "\n",
        "![alt text](https://github.com/kishmys/Assignment-2/blob/master/Image_2.png?raw=true)\n",
        "\n",
        "*    **Input** layer with two inputs neurons\n",
        "*   One **hidden** layer with two neurons\n",
        "*   **Output** layer with a single neuronm\n",
        "\n"
      ]
    },
    {
      "metadata": {
        "id": "vhD2pObzN2x8",
        "colab_type": "text"
      },
      "cell_type": "markdown",
      "source": [
        "## Weights\n",
        "\n",
        "---\n",
        "\n",
        "\n",
        "Neural network training is about finding weights that minimize prediction error. We usually start our training with a set of randomly generated weights.Then, backpropagation is used to update the weights in an attempt to correctly map arbitrary inputs to outputs.\n",
        "\n",
        "Our initial weights will be as following: w1 = 0.15 , w2 = 0.25 , w3 = 0.34 , w4 = 0.43 , w5 = 0.23 , w6 = 0.16 \n"
      ]
    },
    {
      "metadata": {
        "id": "aHip1usjOmsj",
        "colab_type": "text"
      },
      "cell_type": "markdown",
      "source": [
        "## Dataset\n",
        "\n",
        "\n",
        "---\n",
        "\n",
        "\n",
        "Our dataset has one sample with two inputs and one output.\n",
        "\n",
        "![alt text](http://hmkcode.github.io/images/ai/bp_dataset.png)\n",
        "\n",
        "\n",
        "Our single sample is as following inputs=[3, 5] and output=[8]."
      ]
    },
    {
      "metadata": {
        "id": "xJTy-B9kSL8h",
        "colab_type": "text"
      },
      "cell_type": "markdown",
      "source": [
        "## Forward Pass\n",
        "\n",
        "\n",
        "---\n",
        "\n",
        "\n",
        "We will use given weights and inputs to predict the output. Inputs are multiplied by weights; the results are then passed forward to next layer."
      ]
    },
    {
      "metadata": {
        "id": "wK7kO7qmTy2O",
        "colab_type": "text"
      },
      "cell_type": "markdown",
      "source": [
        "#Matrix Dot product:\n",
        "\n",
        "product of inputs and the weights\n",
        "\n",
        "\n",
        " \n",
        "   \\begin{equation*}\n",
        "\\begin{bmatrix}3 & 5\\\\\\end{bmatrix}.\n",
        "\\begin{bmatrix}0.15 &  0.34\\\\ 0.25 & 0.43 \\end{bmatrix}\n",
        " =  \\begin{bmatrix}1.7 & 3.17\\\\\\end{bmatrix}\n",
        "\\end{equation*}\n",
        "\n",
        " ----\n",
        " \n",
        "output of the first layer: $\\begin{bmatrix}1.7 & 3.17\\\\\\end{bmatrix}$ \n",
        " "
      ]
    },
    {
      "metadata": {
        "id": "6q0lCE-CWeSv",
        "colab_type": "text"
      },
      "cell_type": "markdown",
      "source": [
        " Product of first hidden layer output weights  in the next layer\n",
        " \n",
        "\n",
        " \n",
        "  \\begin{equation*}\n",
        "\\begin{bmatrix}1.7 & 3.17\\\\\\end{bmatrix}.\n",
        " \\begin{bmatrix}0.23 \\\\ 0.16\\end{bmatrix}\n",
        " = \\begin{bmatrix}0.8982 \\\\\\end{bmatrix}\n",
        "\\end{equation*}\n",
        "\n",
        " \n",
        " ------\n",
        " final output = **0.8982**"
      ]
    },
    {
      "metadata": {
        "id": "THB6ovIXabm_",
        "colab_type": "text"
      },
      "cell_type": "markdown",
      "source": [
        "##Calculating error\n",
        "Now, it’s time to find out how our network performed by calculating the difference between the actual output and predicted one. It’s clear that our network output, or prediction, is not even close to actual output. We can calculate the difference or the error as following."
      ]
    },
    {
      "metadata": {
        "id": "v0-N0UeuabYr",
        "colab_type": "text"
      },
      "cell_type": "markdown",
      "source": [
        " \\begin{equation*}\n",
        "Error   =  {0.5} {(predicted-actual)^2}\n",
        "\\end{equation*}\n",
        "\n",
        "\n",
        " \\begin{equation*}\n",
        "Error   =  {0.5} {(0.8982-8)^2}\\\\   =25.21778162\n",
        "\\end{equation*}\n"
      ]
    },
    {
      "metadata": {
        "id": "H_BgfXr9abFv",
        "colab_type": "text"
      },
      "cell_type": "markdown",
      "source": [
        "##Reducing Error\n",
        "\n",
        "Our main goal of the training is to reduce the error or the difference between prediction and actual output. Since actual output is constant, “not changing”, the only way to reduce the error is to change prediction value. The question now is, how to change prediction value?\n",
        "\n",
        "By decomposing prediction into its basic elements we can find that weights are the variable elements affecting prediction value. In other words, in order to change prediction value, we need to change weights values.\n",
        "\n",
        "![alt text](http://hmkcode.github.io/images/ai/bp_prediction_elements.png)\n",
        "\n",
        "The question now is how to change\\update the weights value so that the error is reduced?\n",
        "The answer is Backpropagation!"
      ]
    },
    {
      "metadata": {
        "id": "BeyHbEsSd7Ft",
        "colab_type": "text"
      },
      "cell_type": "markdown",
      "source": [
        "##Backpropagation\n",
        "**Backpropagation**, short for “backward propagation of errors”, is a mechanism used to update the weights using gradient descent. It calculates the gradient of the error function with respect to the neural network’s weights. The calculation proceeds backwards through the network.\n",
        "\n",
        "**Gradient descent** is an iterative optimization algorithm for finding the minimum of a function; in our case we want to minimize th error function. To find a local minimum of a function using gradient descent, one takes steps proportional to the negative of the gradient of the function at the current point.\n",
        "\n",
        "![alt text](http://hmkcode.github.io/images/ai/bp_update_formula.png)\n",
        "\n",
        "For example, to update w6, we take the current w6 and subtract the partial derivative of error function with respect to w6. Optionally, we multiply the derivative of the error function by a selected number to make sure that the new updated weight is minimizing the error function; this number is called learning rate.\n",
        "\n",
        "![alt text](http://hmkcode.github.io/images/ai/bp_w6_update.png)\n",
        "\n",
        "The derivation of the error function is evaluated by applying the chain rule as following\n",
        "![alt text](http://hmkcode.github.io/images/ai/bp_error_function_partial_derivative_w6.png)\n",
        "\n",
        "So to update w6 we can apply the following formula\n",
        "\n",
        "![alt text](http://hmkcode.github.io/images/ai/bp_w6_update_closed_form.png)\n",
        "\n",
        "Similarly, we can derive the update formula for w5 and any other weights existing between the output and the hidden layer.\n",
        "\n",
        "![alt text](http://hmkcode.github.io/images/ai/bp_w5_update_closed_form.png)\n",
        "\n",
        "\n",
        "However, when moving backward to update w1, w2, w3 and w4 existing between input and hidden layer, the partial derivative for the error function with respect to w1, for example, will be as following.\n",
        "\n",
        "![alt text](http://hmkcode.github.io/images/ai/bp_error_function_partial_derivative_w1.png)\n",
        "\n",
        "\n",
        "We can find the update formula for the remaining weights w2, w3 and w4 in the same way.\n",
        "\n",
        "In summary, the update formulas for all weights will be as following:\n",
        "\n",
        "![alt text](http://hmkcode.github.io/images/ai/bp_update_all_weights.png)\n",
        "\n",
        "We can rewrite the update formulas in matrices as following\n",
        "\n",
        "\n",
        "![alt text](http://hmkcode.github.io/images/ai/bp_update_all_weights_matrix.png)"
      ]
    },
    {
      "metadata": {
        "id": "pF8sOpjifx8Z",
        "colab_type": "text"
      },
      "cell_type": "markdown",
      "source": [
        "##Backward Pass\n",
        "Using derived formulas we can find the new weights.\n",
        "\n",
        "**Learning rate:** is a hyperparameter which means that we need to manually guess its value.\n",
        "a = leaning rate = 0.01\n",
        "\n",
        "delta = 0.8982\n",
        "\n",
        "\n",
        "\n",
        " \\begin{equation*}\n",
        "\\begin{bmatrix}w5 \\\\ w6\\end{bmatrix}=\n",
        "\\begin{bmatrix}0.23 \\\\ 0.16\\end{bmatrix} - (0.01)(0.8982) \\begin{bmatrix}1.7 \\\\ 3.17\\end{bmatrix}\n",
        "=\\begin{bmatrix}0.23 \\\\ 0.16\\end{bmatrix}-\\begin{bmatrix}-0.1207306 \\\\ -0.22512706\\end{bmatrix}\\\\=\\begin{bmatrix}0.3507306\\\\ 0.38512706\\end{bmatrix}\n",
        "\\end{equation*}\n",
        "\n"
      ]
    },
    {
      "metadata": {
        "id": "Ts5W6vgaxdes",
        "colab_type": "text"
      },
      "cell_type": "markdown",
      "source": [
        "\n",
        " \\begin{equation*}\n",
        "\\begin{bmatrix}w1 &  w3\\\\ w2 & w4\\end{bmatrix}=\n",
        "\\begin{bmatrix}0.15 &  0.34\\\\ 0.25 & 0.43 \\end{bmatrix}\n",
        "- (0.01)(0.8982) \\begin{bmatrix}3 \\\\ 5\\end{bmatrix}.\n",
        "\\begin{bmatrix}0.23 &0.16\\end{bmatrix}\n",
        "=\\begin{bmatrix}0.15 &  0.34\\\\ 0.25 & 0.43 \\end{bmatrix}\n",
        "-\\begin{bmatrix}-0.04900242 & -0.03408864\\\\ -0.0816707 & -0.0568144\\end{bmatrix}\\\\=\\begin{bmatrix}0.19900242 & 0.37408864\\\\ 0.3316707 & 0.4868144 \\end{bmatrix}\n",
        "\\end{equation*}\n",
        "\n",
        "Now, using the new weights we will repeat the forward passed"
      ]
    },
    {
      "metadata": {
        "id": "x7Pm95z12qTc",
        "colab_type": "text"
      },
      "cell_type": "markdown",
      "source": [
        "\\begin{equation*}\\begin{bmatrix}3 & 5\\\\\\end{bmatrix}.\n",
        "\\begin{bmatrix}0.19900242 & 0.37408864\\\\ 0.3316707 & 0.4868144 \\end{bmatrix}\n",
        " =  \\begin{bmatrix}2.25536076 & 3.55633792\\\\\\end{bmatrix} \\end{equation*}\n",
        " \n",
        " \n",
        "  Product of first hidden layer output weights  in the next layer\n",
        " \n",
        " \\begin{equation*}\\begin{bmatrix}2.25536076 & 3.55633792\\\\\\end{bmatrix}.\n",
        " \\begin{bmatrix}0.23 \\\\ 0.16\\end{bmatrix}\n",
        " = \\begin{bmatrix}2.160666\\\\\\end{bmatrix}\\end{equation*}\n",
        " \n",
        " ------\n",
        " final output =2.160666"
      ]
    },
    {
      "metadata": {
        "id": "fY8i3YsNAEiJ",
        "colab_type": "text"
      },
      "cell_type": "markdown",
      "source": [
        "##After  repating the above steps for 10 times \n",
        "\n",
        "Actual :  **8**\n",
        "\n",
        "Final Prediction:  **7.999999130273318**\n",
        "\n",
        "Accuracy:  **0.99999989**\n",
        "\n",
        "final error value: **3.782122505041601e-13**"
      ]
    },
    {
      "metadata": {
        "id": "nDYI5_slgh9P",
        "colab_type": "text"
      },
      "cell_type": "markdown",
      "source": [
        "#==============================================================="
      ]
    },
    {
      "metadata": {
        "id": "VvFS9J4lF8AO",
        "colab_type": "text"
      },
      "cell_type": "markdown",
      "source": [
        "#Assignment 2B"
      ]
    },
    {
      "metadata": {
        "id": "9tF-BhzGY-Fo",
        "colab_type": "code",
        "outputId": "32cdfb88-d758-4c53-b08e-a614cd836028",
        "colab": {
          "base_uri": "https://localhost:8080/",
          "height": 459
        }
      },
      "cell_type": "code",
      "source": [
        "import numpy as np\n",
        "\n",
        "w1 = 0.15;w2 = 0.25;w3 = 0.34;w4 = 0.43;w5 = 0.23;w6 = 0.16;\n",
        "i1 = 3\n",
        "i2 = 5\n",
        "ip = np.matrix([i1,i2]) #input matrix\n",
        "z = [8] #actual output\n",
        "epoch = 10 #no.of epochs\n",
        "a= 0.01   #learning rate\n",
        "\n",
        "for i in range(epoch):\n",
        "    #forward pass\n",
        "    hidden_layer_1=np.matrix([[w1,w3],[w2,w4]])\n",
        "    hidden_layer_1_op =np.dot(ip,hidden_layer_1)\n",
        "    hidden_layer_2 = np.matrix([[w5],[w6]])\n",
        "    hidden_layer_2_op = np.dot(hidden_layer_1_op,hidden_layer_2 )\n",
        "    error = (1/2)*(hidden_layer_2_op - z)**2\n",
        "    error\n",
        "    #print('First Forward pass:','\\nAccuracy: ',(z[0]-np.sqrt((hidden_layer_2_op - z)**2))/z[0],'Error: ',error)\n",
        "    print('Epoch:',i,'\\nAccuracy: ',(z[0]-np.sqrt((hidden_layer_2_op - z)**2))/z[0],\n",
        "          'Error: ',error,\n",
        "          'Predicted:',np.ravel(hidden_layer_2_op)[0])\n",
        "    \n",
        "    \n",
        "    #backward pass\n",
        "    hidden_layer_2_op = np.ravel(hidden_layer_2_op)\n",
        "    hidden_layer_2_op = hidden_layer_2_op[0]\n",
        "    \n",
        "    h1 = ((i1*w1) + (i2*w2))\n",
        "    h2 = ((i1*w3) + (i2*w4))\n",
        "    delta = hidden_layer_2_op - z[0] #pred - act\n",
        "     \n",
        "    #updating new weights  \n",
        "    hidden_layer_2 = hidden_layer_2 - (a*delta*(np.matrix([[h1],[h2]])))\n",
        "    hidden_layer_1 = hidden_layer_1 - (a*delta*(ip.T)*(np.matrix([w5,w6])))\n",
        "    \n",
        "    w1=np.ravel(hidden_layer_1)[0]\n",
        "    w3=np.ravel(hidden_layer_1)[1]\n",
        "    w2=np.ravel(hidden_layer_1)[2]\n",
        "    w4=np.ravel(hidden_layer_1)[3]\n",
        "    w5=np.ravel(hidden_layer_2)[0]\n",
        "    w6=np.ravel(hidden_layer_2)[1]\n",
        "    \n",
        "print('\\nActual : ',z[0])\n",
        "print('Predicted: ',np.ravel(hidden_layer_2_op)[0])\n",
        "print('\\nAccuracy: ',(z[0]-np.sqrt((hidden_layer_2_op - z)**2))/z[0])\n",
        "print('final error value:' ,np.ravel(error)[0]) "
      ],
      "execution_count": 0,
      "outputs": [
        {
          "output_type": "stream",
          "text": [
            "Epoch: 0 \n",
            "Accuracy:  [[0.112275]] Error:  [[25.21778162]] Predicted: 0.8982\n",
            "Epoch: 1 \n",
            "Accuracy:  [[0.27008325]] Error:  [[17.04891078]] Predicted: 2.160666000067371\n",
            "Epoch: 2 \n",
            "Accuracy:  [[0.49817716]] Error:  [[8.05843737]] Predicted: 3.9854172400292303\n",
            "Epoch: 3 \n",
            "Accuracy:  [[0.76255706]] Error:  [[1.80413272]] Predicted: 6.100456516489134\n",
            "Epoch: 4 \n",
            "Accuracy:  [[0.94190363]] Error:  [[0.10800604]] Predicted: 7.535229010726728\n",
            "Epoch: 5 \n",
            "Accuracy:  [[0.9938542]] Error:  [[0.00120867]] Predicted: 7.9508336052259585\n",
            "Epoch: 6 \n",
            "Accuracy:  [[0.99958155]] Error:  [[5.6032173e-06]] Predicted: 7.996652398679782\n",
            "Epoch: 7 \n",
            "Accuracy:  [[0.99997322]] Error:  [[2.29516365e-08]] Predicted: 7.9997857495085265\n",
            "Epoch: 8 \n",
            "Accuracy:  [[0.99999829]] Error:  [[9.31957965e-11]] Predicted: 7.999986347469356\n",
            "Epoch: 9 \n",
            "Accuracy:  [[0.99999989]] Error:  [[3.78212251e-13]] Predicted: 7.999999130273318\n",
            "\n",
            "Actual :  8\n",
            "Predicted:  7.999999130273318\n",
            "\n",
            "Accuracy:  [0.99999989]\n",
            "final error value: 3.782122505041601e-13\n"
          ],
          "name": "stdout"
        }
      ]
    },
    {
      "metadata": {
        "id": "y1-kvQEmTE57",
        "colab_type": "code",
        "colab": {}
      },
      "cell_type": "code",
      "source": [
        ""
      ],
      "execution_count": 0,
      "outputs": []
    }
  ]
}